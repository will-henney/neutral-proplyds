{
 "cells": [
  {
   "cell_type": "markdown",
   "id": "09a775d6-5091-4691-9413-6104f2df6123",
   "metadata": {},
   "source": [
    "# Extract profiles for all proplyds and all filters"
   ]
  },
  {
   "cell_type": "markdown",
   "id": "9244ddc3-4db9-41ca-a9f6-c4814d2c46fe",
   "metadata": {},
   "source": [
    "## Library imports"
   ]
  },
  {
   "cell_type": "markdown",
   "id": "150db6ef-c1fe-4830-9c67-aff2b37dd577",
   "metadata": {},
   "source": [
    "### General libraries"
   ]
  },
  {
   "cell_type": "code",
   "execution_count": 2,
   "id": "abf60baf-b5a3-42d4-9e5d-9d656bd9b313",
   "metadata": {},
   "outputs": [],
   "source": [
    "import numpy as np \n",
    "from pathlib import Path\n",
    "import pandas as pd"
   ]
  },
  {
   "cell_type": "markdown",
   "id": "6bfd857b-42b5-4118-a57e-57ccc753f9a0",
   "metadata": {},
   "source": [
    "### Astronomy libraries"
   ]
  },
  {
   "cell_type": "code",
   "execution_count": 17,
   "id": "fdf385ba-aa5c-4ee8-b01f-516010f7a439",
   "metadata": {},
   "outputs": [],
   "source": [
    "from astropy.coordinates import SkyCoord, Angle\n",
    "import astropy.units as u\n",
    "from astropy.io import fits\n",
    "from astropy.wcs import WCS\n",
    "from astropy.table import Table, QTable\n",
    "import regions"
   ]
  },
  {
   "cell_type": "markdown",
   "id": "3450bb39-81ac-4188-a8f6-56a079d3c31a",
   "metadata": {},
   "source": [
    "### Graphics libraries"
   ]
  },
  {
   "cell_type": "code",
   "execution_count": 1,
   "id": "7c20ecf2-4102-4d1e-9e32-2a99abe8c79c",
   "metadata": {},
   "outputs": [],
   "source": [
    "from matplotlib import pyplot as plt\n",
    "import seaborn as sns"
   ]
  },
  {
   "cell_type": "code",
   "execution_count": 3,
   "id": "91123d3a-254a-4af7-854b-8c39bb7b2480",
   "metadata": {},
   "outputs": [],
   "source": [
    "sns.set_context(\"talk\")\n",
    "sns.set_color_codes()"
   ]
  },
  {
   "cell_type": "markdown",
   "id": "1109d882-177f-4c45-9aed-beec7ede67e8",
   "metadata": {},
   "source": [
    "## Paths to the data files"
   ]
  },
  {
   "cell_type": "code",
   "execution_count": 5,
   "id": "5d328e94-41c6-4920-9c7b-f40aff23205b",
   "metadata": {},
   "outputs": [],
   "source": [
    "datapath = Path.cwd().parent / \"data\""
   ]
  },
  {
   "cell_type": "markdown",
   "id": "45bd4af3-19b0-4521-9613-76a7d975e889",
   "metadata": {},
   "source": [
    "## Get all the images we need in various filters"
   ]
  },
  {
   "cell_type": "code",
   "execution_count": 31,
   "id": "0d66cbe9-e56b-470e-aac4-2214316f113b",
   "metadata": {},
   "outputs": [],
   "source": [
    "pcfilters = [\"f631n\", \"f673n\", \"f656n\", \"f658n\", \"f547m\", ]"
   ]
  },
  {
   "cell_type": "code",
   "execution_count": 35,
   "id": "9a7d9469-0cb9-415b-8ade-21fbd7fb4e41",
   "metadata": {},
   "outputs": [],
   "source": [
    "class FilterImage:\n",
    "    \"\"\"WFPC2 PC image in a given filter\n",
    "    \n",
    "    Includes the following attributes:\n",
    "    \n",
    "    name: name of filter\n",
    "    data: pixel image (hi-pass filtered)\n",
    "    sdata: pixel image (lo-pass filtered)\n",
    "    coords: celestial coordinates of pixels (same shape as data)\n",
    "    wcs: an astropy.wcs.WCS instance\n",
    "    \"\"\"\n",
    "    def __init__(self, name):\n",
    "        self.name = name\n",
    "        hdu = fits.open(\n",
    "            datapath / f\"align-pcmos-{self.name}_sharp_16.fits\"\n",
    "        )[0]\n",
    "        self.wcs = WCS(hdu.header)\n",
    "        self.data = hdu.data\n",
    "        self.sdata = fits.open(\n",
    "            datapath / f\"pcmos-{self.name}_smooth_16.fits\"\n",
    "        )[0].data\n",
    "        ny, nx = self.data.shape\n",
    "        self.coords = self.wcs.pixel_to_world(\n",
    "            *np.meshgrid(np.arange(nx), np.arange(ny))\n",
    "        )\n",
    "        "
   ]
  },
  {
   "cell_type": "code",
   "execution_count": 32,
   "id": "bf5acdae-b70d-47cc-9cf2-c2fbba586a76",
   "metadata": {},
   "outputs": [],
   "source": [
    "imdict = {\n",
    "    name: FilterImage(name) for name in pcfilters\n",
    "}"
   ]
  },
  {
   "cell_type": "markdown",
   "id": "d7fea984-a3a9-4f49-b618-ac9654698763",
   "metadata": {},
   "source": [
    "## Get all the proplyd source coordinates"
   ]
  },
  {
   "cell_type": "markdown",
   "id": "65ffe2f3-1690-4a0b-916d-f548c0918f20",
   "metadata": {},
   "source": [
    "Get the sources from the DS9 region file that I made by hand."
   ]
  },
  {
   "cell_type": "code",
   "execution_count": 6,
   "id": "473cca4e-165f-4538-a40c-074a6fab1d27",
   "metadata": {
    "tags": []
   },
   "outputs": [],
   "source": [
    "regfile = datapath / \"pcmos-proplyds.reg\"\n",
    "regs = regions.Regions.read(regfile, format=\"ds9\")"
   ]
  },
  {
   "cell_type": "markdown",
   "id": "44ece300-30bf-4104-9f09-9e2b38a417c8",
   "metadata": {},
   "source": [
    "Use θ¹ Ori C as origin to define position angles."
   ]
  },
  {
   "cell_type": "code",
   "execution_count": 7,
   "id": "dac54c71-9508-49dc-b507-c144c27aaa10",
   "metadata": {
    "tags": []
   },
   "outputs": [],
   "source": [
    "c0 = SkyCoord.from_name(\"* tet01 Ori C\")"
   ]
  },
  {
   "cell_type": "markdown",
   "id": "9b9e78ea-1146-49f5-bd04-eb20b1d914f1",
   "metadata": {},
   "source": [
    "Extract the information that we want from the region file. Construct a list of dicts that give source name and coordinates:"
   ]
  },
  {
   "cell_type": "code",
   "execution_count": 8,
   "id": "e5b0ab17-2aa7-43c7-81ba-3ba6153350c9",
   "metadata": {
    "tags": []
   },
   "outputs": [],
   "source": [
    "source_list = [{\"Name\": r.meta[\"label\"],  \"ICRS\": r.center} for r in regs]"
   ]
  },
  {
   "cell_type": "markdown",
   "id": "f79a1c45-b456-48ca-b9b6-5b8d67738785",
   "metadata": {},
   "source": [
    "Convert to an `astropy.table.QTable` of the sources. Add columns for PA to θ¹ Ori C (in degrees) and Separation from θ¹ Ori C (in arcsec):"
   ]
  },
  {
   "cell_type": "code",
   "execution_count": 18,
   "id": "6f9a4531-5366-4dbe-a88f-90f29db68fac",
   "metadata": {
    "tags": []
   },
   "outputs": [
    {
     "data": {
      "text/html": [
       "<div><i>QTable length=30</i>\n",
       "<table id=\"table140438733040560\" class=\"table-striped table-bordered table-condensed\">\n",
       "<thead><tr><th>Name</th><th>ICRS</th><th>PA</th><th>Sep</th></tr></thead>\n",
       "<thead><tr><th></th><th>deg,deg</th><th>deg</th><th>arcsec</th></tr></thead>\n",
       "<thead><tr><th>str11</th><th>SkyCoord</th><th>float64</th><th>float64</th></tr></thead>\n",
       "<tr><td>177-341W</td><td>83.82363499999998,-5.394699444444445</td><td>314.98007715439655</td><td>25.432600010148143</td></tr>\n",
       "<tr><td>173-341</td><td>83.82216416666665,-5.394801388888889</td><td>325.26623943671575</td><td>22.321924813790307</td></tr>\n",
       "<tr><td>170-337</td><td>83.82073749999998,-5.393605833333334</td><td>331.55791584978465</td><td>15.967686371231176</td></tr>\n",
       "<tr><td>171-340</td><td>83.82105708333333,-5.394350833333334</td><td>332.3781956253825</td><td>18.873422933876565</td></tr>\n",
       "<tr><td>180-331</td><td>83.82514916666666,-5.391885555555556</td><td>288.5266971454808</td><td>24.69660035312236</td></tr>\n",
       "<tr><td>176-325</td><td>83.82313874999998,-5.390233888888889</td><td>276.6893443122159</td><td>16.322331463594164</td></tr>\n",
       "<tr><td>168-326</td><td>83.82016916666666,-5.390601388888889</td><td>300.0748250386534</td><td>6.4342047406945815</td></tr>\n",
       "<tr><td>161-328</td><td>83.81696666666664,-5.391016944444445</td><td>51.38552690888274</td><td>7.563771376918397</td></tr>\n",
       "<tr><td>158-327</td><td>83.81579458333331,-5.3906875</td><td>70.73243677618109</td><td>10.710830958563081</td></tr>\n",
       "<tr><td>...</td><td>...</td><td>...</td><td>...</td></tr>\n",
       "<tr><td>183-427</td><td>83.82640708333331,-5.407428611111111</td><td>336.36178060130675</td><td>69.64580324535922</td></tr>\n",
       "<tr><td>184-427</td><td>83.82652083333332,-5.407396944444445</td><td>336.0172167602653</td><td>69.70609130462525</td></tr>\n",
       "<tr><td>174-414</td><td>83.82242499999998,-5.403825833333333</td><td>344.96573233697154</td><td>52.6339561187027</td></tr>\n",
       "<tr><td>168-328</td><td>83.81983208333331,-5.391088055555556</td><td>318.7781523831776</td><td>6.616085578685571</td></tr>\n",
       "<tr><td>167-317</td><td>83.81976416666664,-5.3878725</td><td>211.95329982723166</td><td>7.778170669398535</td></tr>\n",
       "<tr><td>166-316</td><td>83.81921458333332,-5.387779166666667</td><td>197.1980376277349</td><td>7.260233381269613</td></tr>\n",
       "<tr><td>163-317</td><td>83.81784374999998,-5.387910555555556</td><td>156.82525978904545</td><td>7.029865473889853</td></tr>\n",
       "<tr><td>158-323</td><td>83.81597666666664,-5.389545277777779</td><td>93.4948266497925</td><td>9.475915329908505</td></tr>\n",
       "<tr><td>157-323</td><td>83.81553458333332,-5.389541111111112</td><td>93.07201076018299</td><td>11.058648404361538</td></tr>\n",
       "<tr><td>156-308 NEW</td><td>83.81513791666666,-5.385553888888889</td><td>140.1742998234434</td><td>19.461879419518056</td></tr>\n",
       "</table></div>"
      ],
      "text/plain": [
       "<QTable length=30>\n",
       "    Name                    ICRS                 ...        Sep        \n",
       "                          deg,deg                ...       arcsec      \n",
       "   str11                  SkyCoord               ...      float64      \n",
       "----------- ------------------------------------ ... ------------------\n",
       "   177-341W 83.82363499999998,-5.394699444444445 ... 25.432600010148143\n",
       "    173-341 83.82216416666665,-5.394801388888889 ... 22.321924813790307\n",
       "    170-337 83.82073749999998,-5.393605833333334 ... 15.967686371231176\n",
       "    171-340 83.82105708333333,-5.394350833333334 ... 18.873422933876565\n",
       "    180-331 83.82514916666666,-5.391885555555556 ...  24.69660035312236\n",
       "    176-325 83.82313874999998,-5.390233888888889 ... 16.322331463594164\n",
       "    168-326 83.82016916666666,-5.390601388888889 ... 6.4342047406945815\n",
       "    161-328 83.81696666666664,-5.391016944444445 ...  7.563771376918397\n",
       "    158-327         83.81579458333331,-5.3906875 ... 10.710830958563081\n",
       "        ...                                  ... ...                ...\n",
       "    183-427 83.82640708333331,-5.407428611111111 ...  69.64580324535922\n",
       "    184-427 83.82652083333332,-5.407396944444445 ...  69.70609130462525\n",
       "    174-414 83.82242499999998,-5.403825833333333 ...   52.6339561187027\n",
       "    168-328 83.81983208333331,-5.391088055555556 ...  6.616085578685571\n",
       "    167-317         83.81976416666664,-5.3878725 ...  7.778170669398535\n",
       "    166-316 83.81921458333332,-5.387779166666667 ...  7.260233381269613\n",
       "    163-317 83.81784374999998,-5.387910555555556 ...  7.029865473889853\n",
       "    158-323 83.81597666666664,-5.389545277777779 ...  9.475915329908505\n",
       "    157-323 83.81553458333332,-5.389541111111112 ... 11.058648404361538\n",
       "156-308 NEW 83.81513791666666,-5.385553888888889 ... 19.461879419518056"
      ]
     },
     "execution_count": 18,
     "metadata": {},
     "output_type": "execute_result"
    }
   ],
   "source": [
    "source_table = QTable(source_list)\n",
    "source_table[\"PA\"] = source_table[\"ICRS\"].position_angle(c0).to(u.deg)\n",
    "source_table[\"Sep\"] = source_table[\"ICRS\"].separation(c0).to(u.arcsec)\n",
    "source_table.add_index(\"Name\")\n",
    "source_table"
   ]
  },
  {
   "cell_type": "markdown",
   "id": "48b415b6-9c8d-436a-a871-d5f88bf0899a",
   "metadata": {},
   "source": [
    "By turning the `Name` column into an index, we can extract a given source by name. For example:"
   ]
  },
  {
   "cell_type": "code",
   "execution_count": 19,
   "id": "ecb3535a-f15e-4afe-baaa-9171cfe3a3e4",
   "metadata": {
    "tags": []
   },
   "outputs": [
    {
     "data": {
      "text/html": [
       "<i>Row index=18</i>\n",
       "<table id=\"table140438733040560\">\n",
       "<thead><tr><th>Name</th><th>ICRS</th><th>PA</th><th>Sep</th></tr></thead>\n",
       "<thead><tr><th></th><th>deg,deg</th><th>deg</th><th>arcsec</th></tr></thead>\n",
       "<thead><tr><th>str11</th><th>SkyCoord</th><th>float64</th><th>float64</th></tr></thead>\n",
       "<tr><td>182-413</td><td>83.82584708333331,-5.403739722222222</td><td>332.8419926483634</td><td>56.78242731489862</td></tr>\n",
       "</table>"
      ],
      "text/plain": [
       "<Row index=18>\n",
       "  Name                  ICRS                         PA               Sep       \n",
       "                      deg,deg                       deg              arcsec     \n",
       " str11                SkyCoord                    float64           float64     \n",
       "------- ------------------------------------ ----------------- -----------------\n",
       "182-413 83.82584708333331,-5.403739722222222 332.8419926483634 56.78242731489862"
      ]
     },
     "execution_count": 19,
     "metadata": {},
     "output_type": "execute_result"
    }
   ],
   "source": [
    "source_table.loc[\"182-413\"]"
   ]
  },
  {
   "cell_type": "markdown",
   "id": "329c7a75-89e0-436b-92c2-4eb85e213bab",
   "metadata": {},
   "source": [
    "The advantage of using a `QTable` is that the units remain attached to the values:"
   ]
  },
  {
   "cell_type": "code",
   "execution_count": 22,
   "id": "152eff65-0dd4-4f96-b105-2e321d6cfa1f",
   "metadata": {
    "tags": []
   },
   "outputs": [
    {
     "data": {
      "text/plain": [
       "(<Angle 314.98007715 deg>, <Angle 24.69660035 arcsec>)"
      ]
     },
     "execution_count": 22,
     "metadata": {},
     "output_type": "execute_result"
    }
   ],
   "source": [
    "source_table.loc[\"177-341W\"][\"PA\"], source_table.loc[\"180-331\"][\"Sep\"]"
   ]
  },
  {
   "cell_type": "markdown",
   "id": "ce643556-e78a-4dac-b517-1b0a20083e8d",
   "metadata": {},
   "source": [
    "## Class to represent combination of a proplyd and an image in a particular filter"
   ]
  },
  {
   "cell_type": "code",
   "execution_count": 41,
   "id": "dc4f982c-e07f-4180-a7fb-b0f5eb0528dc",
   "metadata": {},
   "outputs": [],
   "source": [
    "class ProplydImage:\n",
    "    \n",
    "    def __init__(self, pdata, image: FilterImage):\n",
    "        self.c = pdata[\"ICRS\"]\n",
    "        self.pa = pdata[\"PA\"]\n",
    "        self.sep = pdata[\"Sep\"]\n",
    "        self.image = image\n",
    "\n",
    "    def set_mask(\n",
    "        self,\n",
    "        r_out = 1.0 * u.arcsec,\n",
    "        r_in = 0.1 * u.arcsec,\n",
    "        mu_min = -0.2,\n",
    "    ):\n",
    "        r = self.c.separation(self.image.coords)\n",
    "        pa = self.c.position_angle(self.image.coords)\n",
    "        cth = np.cos((pa - self.pa))\n",
    "        self.mask = (r <= r_out) & ((cth >= mu_min) | (r <= r_in))"
   ]
  },
  {
   "cell_type": "markdown",
   "id": "bd9abd3f-2871-4f34-a919-1e7b197bac75",
   "metadata": {},
   "source": [
    "## Do the profiles"
   ]
  },
  {
   "cell_type": "code",
   "execution_count": null,
   "id": "c4b1ed3e-87d2-4d32-bc98-3b48342411c9",
   "metadata": {},
   "outputs": [],
   "source": [
    "source_data = source_table.loc[\"177-341W\"]\n"
   ]
  },
  {
   "cell_type": "markdown",
   "id": "db99e45f-fa51-46cd-adab-5658700f05e8",
   "metadata": {},
   "source": [
    "## Do the images"
   ]
  },
  {
   "cell_type": "code",
   "execution_count": null,
   "id": "d8a8fc25-c128-43df-9349-2c944682011f",
   "metadata": {},
   "outputs": [],
   "source": []
  }
 ],
 "metadata": {
  "jupytext": {
   "formats": "ipynb,auto:light"
  },
  "kernelspec": {
   "display_name": "Python 3",
   "language": "python",
   "name": "python3"
  },
  "language_info": {
   "codemirror_mode": {
    "name": "ipython",
    "version": 3
   },
   "file_extension": ".py",
   "mimetype": "text/x-python",
   "name": "python",
   "nbconvert_exporter": "python",
   "pygments_lexer": "ipython3",
   "version": "3.9.4"
  }
 },
 "nbformat": 4,
 "nbformat_minor": 5
}
