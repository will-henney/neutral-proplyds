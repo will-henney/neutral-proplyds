{
 "cells": [
  {
   "cell_type": "code",
   "execution_count": 4,
   "id": "e3dfef91-a600-4815-afef-cf51b9dd9c38",
   "metadata": {},
   "outputs": [],
   "source": [
    "from pathlib import Path\n",
    "from astropy.coordinates import SkyCoord"
   ]
  },
  {
   "cell_type": "code",
   "execution_count": 5,
   "id": "99beb22b-c612-4084-8c2e-10b497bc11d5",
   "metadata": {},
   "outputs": [],
   "source": [
    "proplyd_ids = [\n",
    "    \"177-341\",\n",
    "    \"180-331\",\n",
    "]"
   ]
  },
  {
   "cell_type": "code",
   "execution_count": 6,
   "id": "2d5e19e8-0c59-4e11-83f0-4219d43d4efe",
   "metadata": {},
   "outputs": [],
   "source": [
    "cdict = {\n",
    "    _: SkyCoord.from_name(f\"[OW94] {_}\")\n",
    "    for _ in proplyd_ids\n",
    "}"
   ]
  },
  {
   "cell_type": "code",
   "execution_count": 7,
   "id": "e3c0f6e5-36b0-4d34-b09c-35369024d61e",
   "metadata": {},
   "outputs": [
    {
     "data": {
      "text/plain": [
       "{'177-341': <SkyCoord (ICRS): (ra, dec) in deg\n",
       "     (83.82363747, -5.39468523)>,\n",
       " '180-331': <SkyCoord (ICRS): (ra, dec) in deg\n",
       "     (83.82518623, -5.39187077)>}"
      ]
     },
     "execution_count": 7,
     "metadata": {},
     "output_type": "execute_result"
    }
   ],
   "source": [
    "cdict"
   ]
  },
  {
   "cell_type": "code",
   "execution_count": 8,
   "id": "534b6012-341d-4765-a1c9-a87ea0ca7690",
   "metadata": {},
   "outputs": [
    {
     "data": {
      "text/plain": [
       "'05h35m17.67299252s -05d23m40.86682307s'"
      ]
     },
     "execution_count": 8,
     "metadata": {},
     "output_type": "execute_result"
    }
   ],
   "source": [
    "cdict[\"177-341\"].to_string(\"hmsdms\")"
   ]
  },
  {
   "cell_type": "code",
   "execution_count": null,
   "id": "77015935-9c08-413d-95a4-03c2df9b4a65",
   "metadata": {},
   "outputs": [],
   "source": []
  }
 ],
 "metadata": {
  "kernelspec": {
   "display_name": "Python 3",
   "language": "python",
   "name": "python3"
  },
  "language_info": {
   "codemirror_mode": {
    "name": "ipython",
    "version": 3
   },
   "file_extension": ".py",
   "mimetype": "text/x-python",
   "name": "python",
   "nbconvert_exporter": "python",
   "pygments_lexer": "ipython3",
   "version": "3.9.4"
  }
 },
 "nbformat": 4,
 "nbformat_minor": 5
}
